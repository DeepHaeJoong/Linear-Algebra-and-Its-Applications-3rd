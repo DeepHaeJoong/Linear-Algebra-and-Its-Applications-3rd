{
 "cells": [
  {
   "cell_type": "markdown",
   "metadata": {},
   "source": [
    "# SVD(특이값 분해) Ⅰ"
   ]
  },
  {
   "cell_type": "markdown",
   "metadata": {},
   "source": [
    "- 특이값 분해(Singular Value Decomposition)에 대해 알아보자. 그리고 여러 관점에서 해석해보는 시간을 가짐"
   ]
  },
  {
   "cell_type": "markdown",
   "metadata": {},
   "source": [
    "## Singular Value Decomposition (SVD)\n",
    " "
   ]
  },
  {
   "cell_type": "markdown",
   "metadata": {},
   "source": [
    "- Given a $\\color{red}{\\text{rectangular}}$ matrix $\\mathit{A} \\in \\Bbb{R}^{\\color{red}{m \\times n}}$  \n",
    "its singular value decomposition is written as \n",
    "\n",
    "$$\n",
    "\\mathit{A} = \\mathit{U} \\sum \\mathit{V}^T\n",
    "$$  \n",
    "\n",
    "\n",
    "- where, $\\mathit{U} \\in \\Bbb{R}^{\\color{red}{m \\times m}}$, $\\mathit{V} \\in \\Bbb{R}^{\\color{red}{n \\times n}}$ : matrices with **orthonormal columns**,\n",
    "providing an **orthonormal basis** of **Col 𝐴** and **Row 𝐴**,\n",
    "respectively.\n",
    "\n",
    "\n",
    "- $\\sum$  $\\in \\Bbb{R}^{\\color{red}{m \\times n}}$ : a diagonal matrix whose entries are in a decreasing order,  \n",
    "i.e., $\\sigma_1$ $\\geq$ $\\sigma_2$ $\\geq$ $\\ldots$ $\\geq$ $\\sigma_{min(m,n)}$"
   ]
  },
  {
   "cell_type": "markdown",
   "metadata": {},
   "source": [
    "## Basic Form of SVD"
   ]
  },
  {
   "cell_type": "markdown",
   "metadata": {},
   "source": [
    "- Given a matrix $\\mathit{A} \\in \\Bbb{R}^{m \\times n}$ where $m \\gt n$, SVD gives\n",
    "\n",
    "$$\n",
    "\\mathit{A} = \\mathit{U} \\sum \\mathit{V}^T \n",
    "$$  "
   ]
  },
  {
   "attachments": {},
   "cell_type": "markdown",
   "metadata": {},
   "source": [
    "<img src=\"https://github.com/DeepHaeJoong/Linear-Algebra-and-Its-Applications-3rd/blob/master/PNG/ch5-1-1.jpg?raw=true\" width=\"700\">\n",
    "\n",
    "-  $\\mathit{U}$의 Column Vector 및 $\\mathit{V}^T$의 Row Vector는 orthonormal columns이므로 크기가 1인 vector들로 이루어져있음"
   ]
  },
  {
   "cell_type": "markdown",
   "metadata": {},
   "source": [
    "## SVD as Sum of Outer Products\n",
    "\n",
    "- $\\mathit{A}$ can also be represented as the sum of outer products  \n",
    "\n",
    "$$\n",
    "\\mathit{A} = \\mathit{U} \\sum \\mathit{V}^T = \\sum^{n}_{i=1} \\sigma_i \\mathbf{u}_i \\mathbf{v}_i^T, \\qquad \\text{where  } \\sigma_1 \\geq \\sigma_2 \\geq \\ldots \\geq \\sigma_{n}\n",
    "$$"
   ]
  },
  {
   "cell_type": "markdown",
   "metadata": {},
   "source": [
    "<img src=\"https://github.com/DeepHaeJoong/Linear-Algebra-and-Its-Applications-3rd/blob/master/PNG/ch5-1-2.jpg?raw=true\" width=\"700\">"
   ]
  },
  {
   "cell_type": "markdown",
   "metadata": {},
   "source": [
    "## Reduced Form of SVD"
   ]
  },
  {
   "cell_type": "markdown",
   "metadata": {},
   "source": [
    "- $\\mathit{A}$ can also be represented as the sum of outer products  \n",
    "\n",
    "$$\n",
    "\\mathit{A} = \\mathit{U} \\sum \\mathit{V}^T = \\sum^{n}_{i=1} \\sigma_i \\mathbf{u}_i \\mathbf{v}_i^T, \\qquad \\text{where  } \\sigma_1 \\geq \\sigma_2 \\geq \\ldots \\geq \\sigma_{n}\n",
    "$$"
   ]
  },
  {
   "cell_type": "markdown",
   "metadata": {},
   "source": [
    "<img src=\"https://github.com/DeepHaeJoong/Linear-Algebra-and-Its-Applications-3rd/blob/master/PNG/ch5-1-3.jpg?raw=true\" width=\"700\">"
   ]
  },
  {
   "cell_type": "markdown",
   "metadata": {},
   "source": [
    "## Another Perspective of SVD"
   ]
  },
  {
   "cell_type": "markdown",
   "metadata": {},
   "source": [
    "- We can easily find two orthonormal basis sets, {$\\mathbf{u}_1$, $\\mathbf{u}_2$, ... $\\mathbf{u}_n$} for Col $\\mathit{A}$ and {$\\mathbf{v}_1$, $\\mathbf{v}_2$, ... $\\mathbf{v}_n$} for Row $\\mathit{A}$, by using, say, Gram-Schmidt orthogonalization.\n",
    "\n",
    "- Are these unique orthonormal basis sets?\n",
    "\n",
    "- No, Then can we jointly find them such that\n",
    "\n",
    "$$\n",
    "\\mathit{A} \\mathbf{v}_i = \\sigma_i \\mathbf{u}_i, \\qquad \\forall \\ 1, \\ldots , n\n",
    "$$"
   ]
  },
  {
   "cell_type": "markdown",
   "metadata": {},
   "source": [
    "> **Q&A** : "
   ]
  },
  {
   "cell_type": "markdown",
   "metadata": {},
   "source": [
    "<img src=\"https://github.com/DeepHaeJoong/Linear-Algebra-and-Its-Applications-3rd/blob/master/PNG/ch5-1-4.jpg?raw=true\" width=\"700\">"
   ]
  },
  {
   "cell_type": "markdown",
   "metadata": {},
   "source": [
    "# 특이값 분해 Ⅱ\n",
    "\n",
    "> 특이값 분해를 계산하는 법  \n",
    "> 위 과정을 통해 특이값 분해에 대해 더 깊이 있는 이해\n",
    "> - Spectral Theorem (스펙트럴 정리)  \n",
    "> - Symmetric Matrix (대칭행렬)  \n",
    "> - Positive Definite Matrix"
   ]
  },
  {
   "cell_type": "markdown",
   "metadata": {},
   "source": [
    "## Computing SVD"
   ]
  },
  {
   "cell_type": "code",
   "execution_count": null,
   "metadata": {},
   "outputs": [],
   "source": []
  },
  {
   "cell_type": "markdown",
   "metadata": {},
   "source": [
    "1. Let $\\mathit{A}$ be an $\\color{red}{\\pmb{m} \\times \\pmb{n}}$ matrix.\n",
    "\n",
    "\n",
    "2. $\\mathit{A}^{T}$$\\mathit{A}$ is a $\\color{blue}{\\pmb{n} \\times \\pmb{n}}$  symmetric matrix.  \n",
    "\n",
    "    - Definition 이용 : $(\\mathit{A}^{T}\\mathit{A})^T$ = $\\mathit{A}^{T}\\mathit{A}^{TT}$ = $\\mathit{A}^{T}\\mathit{A}$\n",
    "\n",
    "\n",
    "3. $\\mathit{A}^{T}$$\\mathit{A}$ is orthogonally diagonalizable."
   ]
  },
  {
   "cell_type": "code",
   "execution_count": null,
   "metadata": {},
   "outputs": [],
   "source": []
  }
 ],
 "metadata": {
  "hide_input": false,
  "kernelspec": {
   "display_name": "Python 3",
   "language": "python",
   "name": "python3"
  },
  "language_info": {
   "codemirror_mode": {
    "name": "ipython",
    "version": 3
   },
   "file_extension": ".py",
   "mimetype": "text/x-python",
   "name": "python",
   "nbconvert_exporter": "python",
   "pygments_lexer": "ipython3",
   "version": "3.7.1"
  },
  "toc": {
   "base_numbering": 1,
   "nav_menu": {},
   "number_sections": true,
   "sideBar": true,
   "skip_h1_title": false,
   "title_cell": "Table of Contents",
   "title_sidebar": "Contents",
   "toc_cell": false,
   "toc_position": {
    "height": "calc(100% - 180px)",
    "left": "10px",
    "top": "150px",
    "width": "169.15px"
   },
   "toc_section_display": true,
   "toc_window_display": true
  }
 },
 "nbformat": 4,
 "nbformat_minor": 2
}
