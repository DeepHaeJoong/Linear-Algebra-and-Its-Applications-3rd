{
 "cells": [
  {
   "cell_type": "markdown",
   "metadata": {},
   "source": [
    "$$\n",
    "A \\mathbf{x} = \\mathbf{b}\n",
    "$$"
   ]
  },
  {
   "cell_type": "markdown",
   "metadata": {},
   "source": [
    "$$\n",
    "????\n",
    "$$"
   ]
  },
  {
   "cell_type": "markdown",
   "metadata": {},
   "source": [
    "$$\n",
    "A \\mathbf{\\hat{x}} = \\mathbf{b}\n",
    "$$"
   ]
  },
  {
   "cell_type": "markdown",
   "metadata": {},
   "source": [
    "두 차이를 최소화하는 방법을 알아보자"
   ]
  },
  {
   "cell_type": "markdown",
   "metadata": {},
   "source": [
    "```\n",
    "```"
   ]
  },
  {
   "cell_type": "markdown",
   "metadata": {},
   "source": [
    "## Inner Product"
   ]
  },
  {
   "cell_type": "markdown",
   "metadata": {},
   "source": [
    "> **Condition** : The two vectors must be in the same space."
   ]
  },
  {
   "cell_type": "markdown",
   "metadata": {},
   "source": [
    "$$\n",
    "\\mathbf{u} = \\begin{bmatrix}\n",
    "                  u_1 \\\\\n",
    "                  u_1 \\\\\n",
    "                 \\vdots \\\\\n",
    "                 u_n \\\\\n",
    "             \\end{bmatrix} \n",
    "\\qquad \n",
    "\\mathbf{v} = \\begin{bmatrix}\n",
    "                  v_1 \\\\\n",
    "                  v_1 \\\\\n",
    "                 \\vdots \\\\\n",
    "                 v_n \\\\\n",
    "             \\end{bmatrix}\n",
    "$$"
   ]
  },
  {
   "cell_type": "markdown",
   "metadata": {},
   "source": [
    "$$\n",
    "\\mathbf{u}^T \\mathbf{v}\n",
    "$$"
   ]
  },
  {
   "cell_type": "markdown",
   "metadata": {},
   "source": [
    "$$\n",
    "\\begin{bmatrix}\n",
    "      u_1 \\ u_1 \\ \\cdots \\ u_n \n",
    "\\end{bmatrix} \\begin{bmatrix}\n",
    "      v_1 \\\\\n",
    "      v_1 \\\\\n",
    "     \\vdots \\\\\n",
    "     v_n \\\\\n",
    "\\end{bmatrix} = u_1v_1 + u_2v_2 + \\cdots + u_nv_n\n",
    "$$ "
   ]
  },
  {
   "cell_type": "markdown",
   "metadata": {},
   "source": [
    "$$\n",
    "\\mathbf{u} \\cdot \\mathbf{v}\n",
    "$$"
   ]
  },
  {
   "cell_type": "markdown",
   "metadata": {},
   "source": [
    "```\n",
    "```"
   ]
  },
  {
   "cell_type": "markdown",
   "metadata": {},
   "source": [
    "## Example 1\n",
    "---"
   ]
  },
  {
   "cell_type": "markdown",
   "metadata": {},
   "source": [
    "$$\n",
    "\\mathbf{u} = \\begin{bmatrix}\n",
    "                  2 \\\\\n",
    "                  5 \\\\\n",
    "                  -1 \\\\\n",
    "             \\end{bmatrix} \n",
    "\\qquad \n",
    "\\mathbf{v} = \\begin{bmatrix}\n",
    "                  3 \\\\\n",
    "                  2 \\\\\n",
    "                 -3 \\\\\n",
    "             \\end{bmatrix}\n",
    "$$"
   ]
  },
  {
   "cell_type": "markdown",
   "metadata": {},
   "source": [
    "$$\n",
    "\\mathbf{u} \\cdot \\mathbf{v} = \\mathbf{u}^T \\mathbf{v} = \\begin{bmatrix}\n",
    "      2 \\ -5 \\ -1 \n",
    "\\end{bmatrix} \\begin{bmatrix}\n",
    "     3 \\\\\n",
    "     2 \\\\\n",
    "     -3 \\\\\n",
    "\\end{bmatrix} = -1\n",
    "$$"
   ]
  },
  {
   "cell_type": "markdown",
   "metadata": {},
   "source": [
    "$$\n",
    "\\mathbf{v} \\cdot \\mathbf{u} = \\mathbf{v}^T \\mathbf{u} = \\begin{bmatrix}\n",
    "      3 \\ 2 \\ -3 \n",
    "\\end{bmatrix} \\begin{bmatrix}\n",
    "     2 \\\\\n",
    "     -5 \\\\\n",
    "     -1 \\\\\n",
    "\\end{bmatrix} = -1\n",
    "$$"
   ]
  },
  {
   "cell_type": "markdown",
   "metadata": {},
   "source": [
    "$$\n",
    "\\color{orange}{\\mathbf{v} \\cdot \\mathbf{u} = \\mathbf{v} \\cdot \\mathbf{u}}\n",
    "$$\n",
    "\n",
    "> 순서 변경되어도 성립함 (알고 있자)"
   ]
  },
  {
   "cell_type": "markdown",
   "metadata": {},
   "source": [
    "```\n",
    "```"
   ]
  },
  {
   "cell_type": "markdown",
   "metadata": {},
   "source": [
    "## Theorem 1.\n",
    "---"
   ]
  },
  {
   "cell_type": "markdown",
   "metadata": {},
   "source": [
    "### Let $\\mathbf{u}$, $\\mathbf{v}$ and $\\mathbf{w}$ be vectors in $\\mathbb{R}^{n}$, and let c be a scalar, Then\n",
    "\n",
    "#### a. $\\quad$ $\\mathbf{u}$ $\\cdot$ $\\mathbf{v}$ = $\\mathbf{v}$ $\\cdot$ $\\mathbf{u}$  \n",
    "#### b. $\\quad$ ($\\mathbf{u}$ +  $\\mathbf{v}$) $\\cdot$ $\\mathbf{w}$  = $\\mathbf{u}$ $\\cdot$ $\\mathbf{w}$ $+$ $\\mathbf{v}$ $\\cdot$ $\\mathbf{w}$\n",
    "#### c. $\\quad$ (c $\\mathbf{u}$) $\\cdot$ $\\mathbf{v}$ = c ($\\mathbf{u}$ $\\cdot$ $\\mathbf{v}$)\n",
    "#### d. $\\quad$ $\\mathbf{u}$ $\\cdot$ $\\mathbf{u}$ $\\geqq$ 0,      and  $\\mathbf{u}$ $\\cdot$ $\\mathbf{u}$ = 0 $\\ if \\ and \\ only \\ if \\ $  $\\mathbf{u}$ = 0\n",
    "```\n",
    "```\n",
    "```\n",
    "```"
   ]
  },
  {
   "cell_type": "markdown",
   "metadata": {},
   "source": [
    "```\n",
    "```"
   ]
  },
  {
   "cell_type": "markdown",
   "metadata": {},
   "source": [
    "## Length of a Vector\n",
    "---"
   ]
  },
  {
   "cell_type": "markdown",
   "metadata": {},
   "source": [
    "**Definition**\n",
    "\n",
    "#### The $\\color{orange}{\\text{length}}$ (or $\\color{orange}{\\text{norm}}$) of $\\mathbf{v}$ in $\\mathbb{R}^{n}$ is the $\\color{orange}{\\text{nonnegative scalar $\\left\\lVert \\mathbf{v} \\right\\rVert$}}$ defined by"
   ]
  },
  {
   "cell_type": "markdown",
   "metadata": {},
   "source": [
    "$$\n",
    "\\left\\lVert \\mathbf{v} \\right\\rVert = \\sqrt{\\mathbf{v} \\cdot \\mathbf{v}} = \\sqrt{v_1^2 + v_2^2 + \\cdots + v_n^2}\n",
    "$$"
   ]
  },
  {
   "cell_type": "markdown",
   "metadata": {},
   "source": [
    "```\n",
    "```"
   ]
  },
  {
   "cell_type": "markdown",
   "metadata": {},
   "source": [
    "$$\n",
    "\\left\\lVert c \\mathbf{v} \\right\\rVert = \\left\\lvert c \\right\\rvert \\left\\lVert \\mathbf{v} \\right\\rVert\n",
    "$$"
   ]
  },
  {
   "cell_type": "markdown",
   "metadata": {},
   "source": [
    "$$\n",
    "\\color{orange}{\\text{unit vector}} \\rightarrow \\left\\lVert \\mathbf{u} \\right\\rVert = 1\n",
    "$$"
   ]
  },
  {
   "cell_type": "markdown",
   "metadata": {},
   "source": [
    "$$\n",
    "\\color{orange}{\\text{normalizing}} \\quad \\mathbf{u} = \\frac{1}{\\left\\lVert \\mathbf{v} \\right\\rVert} \\mathbf{v} \n",
    "$$"
   ]
  },
  {
   "cell_type": "markdown",
   "metadata": {},
   "source": [
    "```\n",
    "```\n",
    "$\n",
    "\\mathbf{v} = \\begin{bmatrix}\n",
    "                  a \\\\\n",
    "                  b \\\\\n",
    "             \\end{bmatrix} \n",
    "$ 일 때, $\\left\\lVert \\mathbf{v} \\right\\rVert$를 기하학적으로 살펴보면 아래와 같다."
   ]
  },
  {
   "cell_type": "markdown",
   "metadata": {},
   "source": [
    "<img src=\"https://github.com/DeepHaeJoong/Linear-Algebra-and-Its-Applications-3rd/blob/master/PNG/Fig%205-1.png?raw=true\" width=\"700\">"
   ]
  },
  {
   "cell_type": "markdown",
   "metadata": {},
   "source": [
    "## Example 2. Find a unit vector $\\mathbf{u}$ in the same direction as $\\mathbf{v}$\n",
    "---"
   ]
  },
  {
   "cell_type": "markdown",
   "metadata": {},
   "source": [
    "$$\n",
    "\\mathbf{v} = \\begin{bmatrix}\n",
    "                  1 \\\\\n",
    "                  -2 \\\\\n",
    "                  2 \\\\\n",
    "                  0 \\\\\n",
    "             \\end{bmatrix}\n",
    "$$"
   ]
  },
  {
   "cell_type": "markdown",
   "metadata": {},
   "source": [
    "$$\n",
    "\\left\\lVert \\mathbf{v} \\right\\rVert = \\sqrt{9} = 3\n",
    "$$"
   ]
  },
  {
   "cell_type": "markdown",
   "metadata": {},
   "source": [
    "$$\n",
    "\\mathbf{u} = \\begin{bmatrix}\n",
    "                  1/3 \\\\\n",
    "                  -2/3 \\\\\n",
    "                  2/3 \\\\\n",
    "                  0 \\\\\n",
    "             \\end{bmatrix}  \\qquad \\left\\lVert \\mathbf{u} \\right\\rVert = 1 \n",
    "$$"
   ]
  },
  {
   "cell_type": "markdown",
   "metadata": {},
   "source": [
    "## Distance in $\\mathbb{R}^{n}$\n",
    "---"
   ]
  },
  {
   "cell_type": "markdown",
   "metadata": {},
   "source": [
    "#### For $\\mathbf{u}$ and $\\mathbf{v}$ in $\\mathbb{R}^{n}$. the distance between  $\\mathbf{u}$ and $\\mathbf{v}$, written as $\\color{orange}{\\text{dist($\\mathbf{u}$, $\\mathbf{v}$)}}$ , is the $\\color{orange}{\\text{length}}$ of the vector  $\\color{orange}{\\text{$\\mathbf{u}$ - $\\mathbf{v}$}}$ ,  That is,\n"
   ]
  },
  {
   "cell_type": "markdown",
   "metadata": {},
   "source": [
    "$$\n",
    "\\color{orange}{\\text{dist($\\mathbf{u}$, $\\mathbf{v}$ ) = }} \\color{orange}{\\left\\lVert \\mathbf{u-v} \\right\\rVert}\n",
    "$$"
   ]
  },
  {
   "cell_type": "markdown",
   "metadata": {},
   "source": [
    "<img src=\"https://github.com/DeepHaeJoong/Linear-Algebra-and-Its-Applications-3rd/blob/master/PNG/Fig%205-2.png?raw=true\" width=\"700\">"
   ]
  }
 ],
 "metadata": {
  "kernelspec": {
   "display_name": "Python 3",
   "language": "python",
   "name": "python3"
  },
  "language_info": {
   "codemirror_mode": {
    "name": "ipython",
    "version": 3
   },
   "file_extension": ".py",
   "mimetype": "text/x-python",
   "name": "python",
   "nbconvert_exporter": "python",
   "pygments_lexer": "ipython3",
   "version": "3.7.1"
  }
 },
 "nbformat": 4,
 "nbformat_minor": 2
}
