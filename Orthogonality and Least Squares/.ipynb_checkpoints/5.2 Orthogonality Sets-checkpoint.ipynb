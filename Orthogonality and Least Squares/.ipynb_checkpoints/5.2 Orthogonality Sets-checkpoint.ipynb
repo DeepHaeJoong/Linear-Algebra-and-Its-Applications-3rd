{
 "cells": [
  {
   "cell_type": "markdown",
   "metadata": {},
   "source": [
    "$$\n",
    "A \\mathbf{x} = \\mathbf{b}\n",
    "$$"
   ]
  },
  {
   "cell_type": "markdown",
   "metadata": {},
   "source": [
    "$$\n",
    "????\n",
    "$$"
   ]
  },
  {
   "cell_type": "markdown",
   "metadata": {},
   "source": [
    "$$\n",
    "A \\mathbf{\\hat{x}} = \\mathbf{b}\n",
    "$$"
   ]
  },
  {
   "cell_type": "markdown",
   "metadata": {},
   "source": [
    "두 차이를 최소화하는 방법을 알아보자"
   ]
  },
  {
   "cell_type": "markdown",
   "metadata": {},
   "source": [
    "```\n",
    "```"
   ]
  },
  {
   "cell_type": "markdown",
   "metadata": {},
   "source": [
    "## $\\color{orange}{\\text{Inner Product}}$"
   ]
  },
  {
   "cell_type": "markdown",
   "metadata": {},
   "source": [
    "> **Condition** : The two vectors must be in the same space."
   ]
  },
  {
   "cell_type": "markdown",
   "metadata": {},
   "source": [
    "$$\n",
    "\\mathbf{u} = \\begin{bmatrix}\n",
    "                  u_1 \\\\\n",
    "                  u_1 \\\\\n",
    "                 \\vdots \\\\\n",
    "                 u_n \\\\\n",
    "             \\end{bmatrix} \n",
    "\\qquad \n",
    "\\mathbf{v} = \\begin{bmatrix}\n",
    "                  v_1 \\\\\n",
    "                  v_1 \\\\\n",
    "                 \\vdots \\\\\n",
    "                 v_n \\\\\n",
    "             \\end{bmatrix}\n",
    "$$"
   ]
  },
  {
   "cell_type": "markdown",
   "metadata": {},
   "source": [
    "$$\n",
    "\\mathbf{u}^T \\mathbf{v}\n",
    "$$"
   ]
  },
  {
   "cell_type": "markdown",
   "metadata": {},
   "source": [
    "$$\n",
    "\\begin{bmatrix}\n",
    "      u_1 \\ u_1 \\ \\cdots \\ u_n \n",
    "\\end{bmatrix} \\begin{bmatrix}\n",
    "      v_1 \\\\\n",
    "      v_1 \\\\\n",
    "     \\vdots \\\\\n",
    "     v_n \\\\\n",
    "\\end{bmatrix} = u_1v_1 + u_2v_2 + \\cdots + u_nv_n\n",
    "$$ "
   ]
  },
  {
   "cell_type": "markdown",
   "metadata": {},
   "source": [
    "$$\n",
    "\\mathbf{u} \\cdot \\mathbf{v}\n",
    "$$"
   ]
  },
  {
   "cell_type": "markdown",
   "metadata": {},
   "source": [
    "```\n",
    "```"
   ]
  },
  {
   "cell_type": "markdown",
   "metadata": {},
   "source": [
    "## $\\color{blue}{\\text{Example 1}}$\n",
    "\n",
    "---"
   ]
  },
  {
   "cell_type": "markdown",
   "metadata": {},
   "source": [
    "$$\n",
    "\\mathbf{u} = \\begin{bmatrix}\n",
    "                  2 \\\\\n",
    "                  5 \\\\\n",
    "                  -1 \\\\\n",
    "             \\end{bmatrix} \n",
    "\\qquad \n",
    "\\mathbf{v} = \\begin{bmatrix}\n",
    "                  3 \\\\\n",
    "                  2 \\\\\n",
    "                 -3 \\\\\n",
    "             \\end{bmatrix}\n",
    "$$"
   ]
  },
  {
   "cell_type": "markdown",
   "metadata": {},
   "source": [
    "$$\n",
    "\\mathbf{u} \\cdot \\mathbf{v} = \\mathbf{u}^T \\mathbf{v} = \\begin{bmatrix}\n",
    "      2 \\ -5 \\ -1 \n",
    "\\end{bmatrix} \\begin{bmatrix}\n",
    "     3 \\\\\n",
    "     2 \\\\\n",
    "     -3 \\\\\n",
    "\\end{bmatrix} = -1\n",
    "$$"
   ]
  },
  {
   "cell_type": "markdown",
   "metadata": {},
   "source": [
    "$$\n",
    "\\mathbf{v} \\cdot \\mathbf{u} = \\mathbf{v}^T \\mathbf{u} = \\begin{bmatrix}\n",
    "      3 \\ 2 \\ -3 \n",
    "\\end{bmatrix} \\begin{bmatrix}\n",
    "     2 \\\\\n",
    "     -5 \\\\\n",
    "     -1 \\\\\n",
    "\\end{bmatrix} = -1\n",
    "$$"
   ]
  },
  {
   "cell_type": "markdown",
   "metadata": {},
   "source": [
    "$$\n",
    "\\color{orange}{\\mathbf{v} \\cdot \\mathbf{u} = \\mathbf{v} \\cdot \\mathbf{u}}\n",
    "$$\n",
    "\n",
    "> 순서 변경되어도 성립함 (알고 있자)"
   ]
  },
  {
   "cell_type": "markdown",
   "metadata": {},
   "source": [
    "```\n",
    "```"
   ]
  },
  {
   "cell_type": "markdown",
   "metadata": {},
   "source": [
    "## $\\color{blue}{\\text{Theorem 1.}}$\n",
    "\n",
    "---"
   ]
  },
  {
   "cell_type": "markdown",
   "metadata": {},
   "source": [
    "### Let $\\mathbf{u}$, $\\mathbf{v}$ and $\\mathbf{w}$ be vectors in $\\mathbb{R}^{n}$, and let c be a scalar, Then\n",
    "\n",
    "#### a. $\\quad$ $\\mathbf{u}$ $\\cdot$ $\\mathbf{v}$ = $\\mathbf{v}$ $\\cdot$ $\\mathbf{u}$  \n",
    "#### b. $\\quad$ ($\\mathbf{u}$ +  $\\mathbf{v}$) $\\cdot$ $\\mathbf{w}$  = $\\mathbf{u}$ $\\cdot$ $\\mathbf{w}$ $+$ $\\mathbf{v}$ $\\cdot$ $\\mathbf{w}$\n",
    "#### c. $\\quad$ (c $\\mathbf{u}$) $\\cdot$ $\\mathbf{v}$ = c ($\\mathbf{u}$ $\\cdot$ $\\mathbf{v}$)\n",
    "#### d. $\\quad$ $\\mathbf{u}$ $\\cdot$ $\\mathbf{u}$ $\\geqq$ 0,      and  $\\mathbf{u}$ $\\cdot$ $\\mathbf{u}$ = 0 $\\ if \\ and \\ only \\ if \\ $  $\\mathbf{u}$ = 0\n",
    "```\n",
    "```\n",
    "```\n",
    "```"
   ]
  },
  {
   "cell_type": "markdown",
   "metadata": {},
   "source": [
    "```\n",
    "```"
   ]
  },
  {
   "cell_type": "markdown",
   "metadata": {},
   "source": [
    "## $\\color{orange}{\\text{Length of a Vector}}$\n",
    "\n",
    "---"
   ]
  },
  {
   "cell_type": "markdown",
   "metadata": {},
   "source": [
    "**Definition**\n",
    "\n",
    "### The $\\color{orange}{\\text{length}}$ (or $\\color{orange}{\\text{norm}}$) of $\\mathbf{v}$ in $\\mathbb{R}^{n}$ is the $\\color{orange}{\\text{nonnegative scalar $\\left\\lVert \\mathbf{v} \\right\\rVert$}}$ defined by"
   ]
  },
  {
   "cell_type": "markdown",
   "metadata": {},
   "source": [
    "$$\n",
    "\\left\\lVert \\mathbf{v} \\right\\rVert = \\sqrt{\\mathbf{v} \\cdot \\mathbf{v}} = \\sqrt{v_1^2 + v_2^2 + \\cdots + v_n^2}\n",
    "$$"
   ]
  },
  {
   "cell_type": "markdown",
   "metadata": {},
   "source": [
    "```\n",
    "```"
   ]
  },
  {
   "cell_type": "markdown",
   "metadata": {},
   "source": [
    "$$\n",
    "\\left\\lVert c \\mathbf{v} \\right\\rVert = \\left\\lvert c \\right\\rvert \\left\\lVert \\mathbf{v} \\right\\rVert\n",
    "$$"
   ]
  },
  {
   "cell_type": "markdown",
   "metadata": {},
   "source": [
    "$$\n",
    "\\color{orange}{\\text{unit vector}} \\rightarrow \\left\\lVert \\mathbf{u} \\right\\rVert = 1\n",
    "$$"
   ]
  },
  {
   "cell_type": "markdown",
   "metadata": {},
   "source": [
    "$$\n",
    "\\color{orange}{\\text{normalizing}} \\quad \\mathbf{u} = \\frac{1}{\\left\\lVert \\mathbf{v} \\right\\rVert} \\mathbf{v} \n",
    "$$"
   ]
  },
  {
   "cell_type": "markdown",
   "metadata": {},
   "source": [
    "```\n",
    "```\n",
    "$\n",
    "\\mathbf{v} = \\begin{bmatrix}\n",
    "                  a \\\\\n",
    "                  b \\\\\n",
    "             \\end{bmatrix} \n",
    "$ 일 때, $\\left\\lVert \\mathbf{v} \\right\\rVert$를 기하학적으로 살펴보면 아래와 같다."
   ]
  },
  {
   "cell_type": "markdown",
   "metadata": {},
   "source": [
    "<img src=\"https://github.com/DeepHaeJoong/Linear-Algebra-and-Its-Applications-3rd/blob/master/PNG/Fig%205-1.png?raw=true\" width=\"700\">"
   ]
  },
  {
   "cell_type": "markdown",
   "metadata": {},
   "source": [
    "## $\\color{blue}{\\text{Example 2.}}$ $\\color{orange}{\\text{Find a unit vector $\\mathbf{u}$ in the same direction as $\\mathbf{v}$}}$ \n",
    "\n",
    "---"
   ]
  },
  {
   "cell_type": "markdown",
   "metadata": {},
   "source": [
    "$$\n",
    "\\mathbf{v} = \\begin{bmatrix}\n",
    "                  1 \\\\\n",
    "                  -2 \\\\\n",
    "                  2 \\\\\n",
    "                  0 \\\\\n",
    "             \\end{bmatrix}\n",
    "$$"
   ]
  },
  {
   "cell_type": "markdown",
   "metadata": {},
   "source": [
    "$$\n",
    "\\left\\lVert \\mathbf{v} \\right\\rVert = \\sqrt{9} = 3\n",
    "$$"
   ]
  },
  {
   "cell_type": "markdown",
   "metadata": {},
   "source": [
    "$$\n",
    "\\mathbf{u} = \\begin{bmatrix}\n",
    "                  1/3 \\\\\n",
    "                  -2/3 \\\\\n",
    "                  2/3 \\\\\n",
    "                  0 \\\\\n",
    "             \\end{bmatrix}  \\qquad \\left\\lVert \\mathbf{u} \\right\\rVert = 1 \n",
    "$$"
   ]
  },
  {
   "cell_type": "markdown",
   "metadata": {},
   "source": [
    "## $\\color{orange}{\\text{Distance in $\\mathbb{R}^{n}$}}$ \n",
    "\n",
    "---"
   ]
  },
  {
   "cell_type": "markdown",
   "metadata": {},
   "source": [
    "### For $\\mathbf{u}$ and $\\mathbf{v}$ in $\\mathbb{R}^{n}$. the distance between  $\\mathbf{u}$ and $\\mathbf{v}$, written as $\\color{orange}{\\text{dist($\\mathbf{u}$, $\\mathbf{v}$)}}$ , is the $\\color{orange}{\\text{length}}$ of the vector  $\\color{orange}{\\text{$\\mathbf{u}$ - $\\mathbf{v}$}}$ ,  That is,\n"
   ]
  },
  {
   "cell_type": "markdown",
   "metadata": {},
   "source": [
    "$$\n",
    "\\color{orange}{\\text{dist($\\mathbf{u}$, $\\mathbf{v}$ ) = }} \\color{orange}{\\left\\lVert \\mathbf{u-v} \\right\\rVert}\n",
    "$$"
   ]
  },
  {
   "cell_type": "markdown",
   "metadata": {},
   "source": [
    "<img src=\"https://github.com/DeepHaeJoong/Linear-Algebra-and-Its-Applications-3rd/blob/master/PNG/Fig%205-2-1.png?raw=true\" width=\"800\">"
   ]
  },
  {
   "cell_type": "markdown",
   "metadata": {},
   "source": [
    "## $\\color{blue}{\\text{Example 3.}}$  \n",
    "---"
   ]
  },
  {
   "cell_type": "markdown",
   "metadata": {},
   "source": [
    "$$\n",
    "\\mathbf{u} = \\begin{bmatrix}\n",
    "                  7 \\\\\n",
    "                  1 \\\\\n",
    "             \\end{bmatrix} \n",
    "\\qquad \n",
    "\\mathbf{v} = \\begin{bmatrix}\n",
    "                  3 \\\\\n",
    "                  2 \\\\\n",
    "             \\end{bmatrix}\n",
    "$$"
   ]
  },
  {
   "cell_type": "markdown",
   "metadata": {},
   "source": [
    "$$\n",
    "\\mathbf{u} - \\mathbf{v} = \\begin{bmatrix}\n",
    "                  7 - 3 \\\\\n",
    "                  1 - 2 \\\\\n",
    "             \\end{bmatrix} \n",
    "= \\begin{bmatrix}\n",
    "                  4 \\\\\n",
    "                  -1 \\\\\n",
    "             \\end{bmatrix} \n",
    "$$"
   ]
  },
  {
   "cell_type": "markdown",
   "metadata": {},
   "source": [
    "$$\n",
    "\\left\\lVert \\mathbf{u}-\\mathbf{v} \\right\\rVert = \\sqrt{16 + 1} = \\sqrt{17}\n",
    "$$"
   ]
  },
  {
   "cell_type": "markdown",
   "metadata": {},
   "source": [
    "## $\\color{blue}{\\text{Example 4.}}$  \n",
    "---"
   ]
  },
  {
   "cell_type": "markdown",
   "metadata": {},
   "source": [
    "$$\n",
    "\\mathbf{u} = (u_1, u_2, u_3)\n",
    "$$\n",
    "\n",
    "$$\n",
    "\\mathbf{v} = (v_1, v_2, v_3)\n",
    "$$"
   ]
  },
  {
   "cell_type": "markdown",
   "metadata": {},
   "source": [
    "$$\\begin{equation}\\begin{aligned}\n",
    "\\text{dist($\\mathbf{u}$, $\\mathbf{v}$)} &= \\left\\lVert \\mathbf{u}-\\mathbf{v} \\right\\rVert \\\\\n",
    "  &= \\sqrt{(\\mathbf{u}-\\mathbf{v})\\cdot(\\mathbf{u}-\\mathbf{v})} \\\\\n",
    "  &= \\sqrt{(u_1 - v_1)^2 + (u_2 - v_2)^2 + (u_3 - v_3)^2}\n",
    "\\end{aligned}\\end{equation}$$"
   ]
  },
  {
   "cell_type": "markdown",
   "metadata": {},
   "source": [
    "## $\\color{orange}{\\text{Orthogonal Vectors}}$ \n",
    "---\n",
    "\n",
    "> 피타고라스..."
   ]
  },
  {
   "cell_type": "markdown",
   "metadata": {},
   "source": [
    "$$\\begin{equation}\\begin{aligned}\n",
    "\\text{dist($\\mathbf{u}$, $\\mathbf{-v}$)} \\qquad \\text{dist($\\mathbf{u}$, $\\mathbf{v}$)} \n",
    "\\end{aligned}\\end{equation}$$\n",
    "\n"
   ]
  },
  {
   "cell_type": "markdown",
   "metadata": {},
   "source": [
    "$$\\begin{equation}\\begin{aligned}\n",
    "\\text{dist($\\mathbf{u}$, $\\mathbf{-v}$)} &= \\left\\lVert \\mathbf{u}-\\mathbf{(-v)} \\right\\rVert \\\\\n",
    "  &= \\left\\lVert \\mathbf{u}+\\mathbf{v} \\right\\rVert \\\\\n",
    "  &= \\sqrt{(\\mathbf{u}+\\mathbf{v})\\cdot(\\mathbf{u}+\\mathbf{v})} \\\\\n",
    "  &= \\sqrt{\\mathbf{u} \\cdot \\mathbf{u} + \\mathbf{u} \\cdot \\mathbf{v} + \\mathbf{v} \\cdot \\mathbf{u} + \\mathbf{v} \\cdot \\mathbf{v}} \\\\\n",
    "  &= \\sqrt{\\left\\lVert \\mathbf{u} \\right\\rVert^2 + \\left\\lVert \\mathbf{v} \\right\\rVert^2 + 2\\mathbf{u}\\cdot\\mathbf{v}}\n",
    "\\end{aligned}\\end{equation}$$"
   ]
  },
  {
   "cell_type": "markdown",
   "metadata": {},
   "source": [
    "$$\\begin{equation}\\begin{aligned}\n",
    "\\text{dist($\\mathbf{u}$, $\\mathbf{v}$)} &= \\left\\lVert \\mathbf{u}-\\mathbf{v} \\right\\rVert \\\\\n",
    "  &= \\sqrt{(\\mathbf{u}-\\mathbf{v})\\cdot(\\mathbf{u}-\\mathbf{v})} \\\\\n",
    "  &= \\sqrt{\\mathbf{u} \\cdot \\mathbf{u} - \\mathbf{u} \\cdot \\mathbf{v} - \\mathbf{v} \\cdot \\mathbf{u} + \\mathbf{v} \\cdot \\mathbf{v}} \\\\\n",
    "  &= \\sqrt{\\left\\lVert \\mathbf{u} \\right\\rVert^2 + \\left\\lVert \\mathbf{v} \\right\\rVert^2 - 2\\mathbf{u}\\cdot\\mathbf{v}}\n",
    "\\end{aligned}\\end{equation}$$"
   ]
  },
  {
   "cell_type": "markdown",
   "metadata": {},
   "source": [
    "$$\n",
    "\\color{orange}{\\text{2$\\mathbf{u} \\cdot \\mathbf{v} = -2\\mathbf{u} \\cdot \\mathbf{v} \\qquad \\qquad\n",
    "\\mathbf{u} \\cdot \\mathbf{v} = 0 $}} \n",
    "$$"
   ]
  },
  {
   "cell_type": "markdown",
   "metadata": {},
   "source": [
    "### Two vectors $\\mathbf{u}$ and $\\mathbf{v}$ in $\\mathbb{R}^{n}$ are $\\color{orange}{\\text{orthogonal}}$ if $\\color{orange}{\\text{$\\mathbf{u} \\cdot \\mathbf{v} = 0$}}$"
   ]
  },
  {
   "cell_type": "markdown",
   "metadata": {},
   "source": [
    "<img src=\"https://github.com/DeepHaeJoong/Linear-Algebra-and-Its-Applications-3rd/blob/master/PNG/Fig%205-3.png?raw=true\" width=\"800\">"
   ]
  },
  {
   "cell_type": "markdown",
   "metadata": {},
   "source": [
    "$$\n",
    "\\text{The $\\color{orange}{\\text{zero vector}}$ is $\\color{orange}{\\text{orthogonal to every vector}}$ in $\\mathbb{R}^{n}$} \n",
    "$$"
   ]
  },
  {
   "cell_type": "markdown",
   "metadata": {},
   "source": [
    "$$\n",
    "\\color{orange}{0^T \\mathbf{v} = 0}\n",
    "$$"
   ]
  },
  {
   "cell_type": "markdown",
   "metadata": {},
   "source": [
    "## $\\color{blue}{\\text{Theorem 2.}}$ $\\color{orange}{\\text{Pythagorean Theorem}}$ \n",
    "\n",
    "---"
   ]
  },
  {
   "cell_type": "markdown",
   "metadata": {},
   "source": [
    "### Two vectors $\\mathbf{u}$ and $\\mathbf{v}$ are $\\color{orange}{\\text{orthogonal}}$ $\\mathit{if \\ and \\ only \\ if}$\n"
   ]
  },
  {
   "cell_type": "markdown",
   "metadata": {},
   "source": [
    "$$\n",
    "\\left\\lVert \\mathbf{u}+\\mathbf{v} \\right\\rVert^2 = \\left\\lVert \\mathbf{u} \\right\\rVert^2 + \\left\\lVert \\mathbf{v} \\right\\rVert^2\n",
    "$$"
   ]
  },
  {
   "cell_type": "markdown",
   "metadata": {},
   "source": [
    "## $\\color{orange}{\\text{Orhogonal Complements}}$ \n",
    "---"
   ]
  },
  {
   "cell_type": "markdown",
   "metadata": {},
   "source": [
    "<img src=\"https://github.com/DeepHaeJoong/Linear-Algebra-and-Its-Applications-3rd/blob/master/PNG/Fig%205-4.png?raw=true\" width=\"800\">"
   ]
  },
  {
   "cell_type": "markdown",
   "metadata": {},
   "source": [
    "## $\\color{blue}{\\text{Example 5}}$  \n",
    "---"
   ]
  },
  {
   "cell_type": "markdown",
   "metadata": {},
   "source": [
    "### Suppose a vector $\\mathbf{y}$ is orthogonal to vectors $\\mathbf{u}$ and $\\mathbf{v}$.  ★ Show that $\\mathbf{y}$ is orthogonal to the vector $\\mathbf{u}$ + $\\mathbf{v}$"
   ]
  },
  {
   "cell_type": "markdown",
   "metadata": {},
   "source": [
    "$$\n",
    "\\mathbf{y} \\cdot \\mathbf{u} = 0\n",
    "$$\n",
    "\n",
    "$$\n",
    "\\mathbf{y} \\cdot \\mathbf{v} = 0\n",
    "$$\n",
    "\n",
    "\n",
    "$$\n",
    "\\\n",
    "$$\n",
    "\n",
    "\n",
    "$$\\begin{equation}\\begin{aligned}\n",
    "\\mathbf{y} \\cdot (\\mathbf{v} + \\mathbf{u}) &= \\mathbf{y} \\cdot \\mathbf{v} + \\mathbf{v} \\cdot \\mathbf{u} \\\\\n",
    " &= 0\n",
    "\\end{aligned}\\end{equation}$$"
   ]
  },
  {
   "cell_type": "markdown",
   "metadata": {},
   "source": [
    "## $\\color{blue}{\\text{Example 6}}$  \n",
    "---"
   ]
  },
  {
   "cell_type": "markdown",
   "metadata": {},
   "source": [
    "### Suppose a vector $\\mathbf{y}$ is orthogonal to vectors $\\mathbf{u}$ and $\\mathbf{v}$.  ★ Show that $\\mathbf{y}$ is orthogonal to every $\\mathbf{w}$ in  Span {$\\mathbf{u}$ , $\\mathbf{v}$}"
   ]
  },
  {
   "cell_type": "markdown",
   "metadata": {},
   "source": [
    "$$\\begin{equation}\\begin{aligned}\n",
    "\\mathbf{w} &= c_1\\mathbf{u} + c_2\\mathbf{v} \\\\\n",
    "\\mathbf{w} \\cdot \\mathbf{y} &= (c_1\\mathbf{u} + c_2\\mathbf{v}) \\cdot \\mathbf{y} \\\\\n",
    " &= c_1\\mathbf{u} \\cdot \\mathbf{y} + c_2\\mathbf{v} \\cdot \\mathbf{y} \\\\\n",
    " &= 0\n",
    "\\end{aligned}\\end{equation}$$"
   ]
  },
  {
   "cell_type": "markdown",
   "metadata": {},
   "source": [
    "## $\\color{blue}{\\text{Example 7}}$  \n",
    "---"
   ]
  },
  {
   "cell_type": "markdown",
   "metadata": {},
   "source": [
    "### Let $W$ = Span {$\\mathbf{v_1}$, ... ,$\\mathbf{v_p}$}. Show that if $\\mathbf{x}$ is orthogonal to each $\\mathbf{v_j}$, then $\\mathbf{x}$ is orthogonal to every vector in $W$."
   ]
  },
  {
   "cell_type": "markdown",
   "metadata": {},
   "source": [
    "$$\\begin{equation}\\begin{aligned}\n",
    "\\mathbf{x} \\cdot \\mathbf{v_j} &= 0, \\qquad \\text{for} 1 \\leq j \\leq p\n",
    "\\end{aligned}\\end{equation}$$\n",
    "\n",
    "$$\n",
    "\\\n",
    "$$\n",
    "\n",
    "\n",
    "$$\\begin{equation}\\begin{aligned}\n",
    "\\mathbf{w} &= c_1\\mathbf{v_1} + ... + c_p\\mathbf{v_p}\\\\\n",
    "\\mathbf{w} \\cdot \\mathbf{x} &= c_1\\mathbf{v_1}\\cdot \\mathbf{x} + ... + c_p\\mathbf{v_p}\\cdot \\mathbf{x} \\\\\n",
    " &= 0\n",
    "\\end{aligned}\\end{equation}$$"
   ]
  },
  {
   "cell_type": "markdown",
   "metadata": {},
   "source": [
    "## $\\color{blue}{\\text{Example 8}}$  \n",
    "---\n",
    "\n",
    "### Let $W$ be a subspace of $\\mathbb{R}^{n}$, and let $W^{T}$ be the set of all vectors orthogonal to $w$. Show that $W^{T}$ is a subspace of $\\mathbb{R}^{n}$.\n",
    "."
   ]
  },
  {
   "cell_type": "markdown",
   "metadata": {},
   "source": [
    "> **subspace**\n",
    "> - 0\n",
    "> - vector sum\n",
    "> - scalar multiplication"
   ]
  },
  {
   "cell_type": "markdown",
   "metadata": {},
   "source": [
    "$$\n",
    "\\mathbf{u} \\text{ in } W \\qquad \\mathbf{z} \\text{ in } W^T \\qquad c\\mathbf{z} \\color{orange}{\\text{ in } W^T} \n",
    "$$"
   ]
  },
  {
   "cell_type": "markdown",
   "metadata": {},
   "source": [
    "$$\\begin{equation}\\begin{aligned}\n",
    "\\mathbf{u} \\cdot c \\mathbf{z} &=  c \\mathbf{u} \\cdot \\mathbf{z} \\\\\n",
    " &= 0\n",
    "\\end{aligned}\\end{equation}$$"
   ]
  },
  {
   "cell_type": "markdown",
   "metadata": {},
   "source": [
    "$$\n",
    "\\mathbf{z}_1 \\text{ and } \\mathbf{z}_2 \\text{ in } W^T \\qquad \\mathbf{z}_1 + \\mathbf{z}_2 \\color{orange}{\\text{ in } W^T} \n",
    "$$\n",
    "\n",
    "$$\\begin{equation}\\begin{aligned}\n",
    "\\mathbf{u} \\cdot (\\mathbf{z}_1 + \\mathbf{z}_2) &= \\mathbf{u} \\cdot \\mathbf{z}_1 + \\mathbf{u} \\cdot \\\\\\mathbf{z}_2\n",
    " &= 0\n",
    "\\end{aligned}\\end{equation}$$"
   ]
  },
  {
   "cell_type": "markdown",
   "metadata": {},
   "source": [
    "$$\n",
    " \\color{orange}{\\text{0 in } W^T} \n",
    "$$"
   ]
  },
  {
   "cell_type": "markdown",
   "metadata": {},
   "source": [
    "## $\\color{blue}{\\text{Theorem 3.}}$\n",
    "---\n",
    "\n",
    "### Let $A$\n",
    "\n",
    "///"
   ]
  }
 ],
 "metadata": {
  "kernelspec": {
   "display_name": "Python 3",
   "language": "python",
   "name": "python3"
  },
  "language_info": {
   "codemirror_mode": {
    "name": "ipython",
    "version": 3
   },
   "file_extension": ".py",
   "mimetype": "text/x-python",
   "name": "python",
   "nbconvert_exporter": "python",
   "pygments_lexer": "ipython3",
   "version": "3.7.1"
  }
 },
 "nbformat": 4,
 "nbformat_minor": 2
}
